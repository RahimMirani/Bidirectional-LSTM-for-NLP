{
  "nbformat": 4,
  "nbformat_minor": 0,
  "metadata": {
    "colab": {
      "provenance": [],
      "authorship_tag": "ABX9TyOGibHRTAK2Ra9XI25988uw",
      "include_colab_link": true
    },
    "kernelspec": {
      "name": "python3",
      "display_name": "Python 3"
    },
    "language_info": {
      "name": "python"
    }
  },
  "cells": [
    {
      "cell_type": "markdown",
      "metadata": {
        "id": "view-in-github",
        "colab_type": "text"
      },
      "source": [
        "<a href=\"https://colab.research.google.com/github/RahimMirani/Bidirectional-LSTM-for-NLP/blob/main/Bayes_Sentiment_Analysis_Classifier_.ipynb\" target=\"_parent\"><img src=\"https://colab.research.google.com/assets/colab-badge.svg\" alt=\"Open In Colab\"/></a>"
      ]
    },
    {
      "cell_type": "code",
      "execution_count": 25,
      "metadata": {
        "colab": {
          "base_uri": "https://localhost:8080/"
        },
        "id": "y4V9Qdkt7-NA",
        "outputId": "5a1ea20f-2b04-412d-865c-a191dc557698"
      },
      "outputs": [
        {
          "output_type": "stream",
          "name": "stderr",
          "text": [
            "[nltk_data] Downloading package subjectivity to /root/nltk_data...\n",
            "[nltk_data]   Package subjectivity is already up-to-date!\n",
            "[nltk_data] Downloading package punkt_tab to /root/nltk_data...\n",
            "[nltk_data]   Package punkt_tab is already up-to-date!\n",
            "[nltk_data] Downloading package vader_lexicon to /root/nltk_data...\n",
            "[nltk_data]   Package vader_lexicon is already up-to-date!\n"
          ]
        },
        {
          "output_type": "execute_result",
          "data": {
            "text/plain": [
              "True"
            ]
          },
          "metadata": {},
          "execution_count": 25
        }
      ],
      "source": [
        "from nltk.classify import NaiveBayesClassifier\n",
        "from nltk.corpus import subjectivity\n",
        "from nltk.sentiment import SentimentAnalyzer\n",
        "from nltk.sentiment.util import *\n",
        "import nltk\n",
        "nltk.download('subjectivity')\n",
        "nltk.download('punkt_tab')\n",
        "nltk.download('vader_lexicon')"
      ]
    },
    {
      "cell_type": "code",
      "source": [
        "n_instances = 100\n",
        "subj_docs = [(sent, 'subj') for sent in subjectivity.sents(categories='subj')[:n_instances]]\n",
        "obj_docs = [(sent, 'obj') for sent in subjectivity.sents(categories='obj')[:n_instances]]\n",
        "len(subj_docs), len(obj_docs)\n",
        "(100, 100)"
      ],
      "metadata": {
        "colab": {
          "base_uri": "https://localhost:8080/"
        },
        "id": "KF2IFav491wB",
        "outputId": "b792ada6-0328-478d-c03d-b8e50fc6873f"
      },
      "execution_count": 26,
      "outputs": [
        {
          "output_type": "execute_result",
          "data": {
            "text/plain": [
              "(100, 100)"
            ]
          },
          "metadata": {},
          "execution_count": 26
        }
      ]
    },
    {
      "cell_type": "code",
      "source": [
        "subj_docs[0]"
      ],
      "metadata": {
        "colab": {
          "base_uri": "https://localhost:8080/"
        },
        "id": "Eshd5qNR-Qxy",
        "outputId": "98955a94-4430-44dc-a643-8fde701f9e23"
      },
      "execution_count": 27,
      "outputs": [
        {
          "output_type": "execute_result",
          "data": {
            "text/plain": [
              "(['smart',\n",
              "  'and',\n",
              "  'alert',\n",
              "  ',',\n",
              "  'thirteen',\n",
              "  'conversations',\n",
              "  'about',\n",
              "  'one',\n",
              "  'thing',\n",
              "  'is',\n",
              "  'a',\n",
              "  'small',\n",
              "  'gem',\n",
              "  '.'],\n",
              " 'subj')"
            ]
          },
          "metadata": {},
          "execution_count": 27
        }
      ]
    },
    {
      "cell_type": "code",
      "source": [
        "train_subj_docs = subj_docs[:80]\n",
        "test_subj_docs = subj_docs[80:100]\n",
        "train_obj_docs = obj_docs[:80]\n",
        "test_obj_docs = obj_docs[80:100]\n",
        "training_docs = train_subj_docs+train_obj_docs\n",
        "testing_docs = test_subj_docs+test_obj_docs"
      ],
      "metadata": {
        "id": "PAF8bEdz-U6g"
      },
      "execution_count": 28,
      "outputs": []
    },
    {
      "cell_type": "code",
      "source": [
        "sentim_analyzer = SentimentAnalyzer()\n",
        "all_words_neg = sentim_analyzer.all_words([mark_negation(doc) for doc in training_docs])"
      ],
      "metadata": {
        "id": "zG1gB5TA-Z2x"
      },
      "execution_count": 29,
      "outputs": []
    },
    {
      "cell_type": "code",
      "source": [
        "unigram_feats = sentim_analyzer.unigram_word_feats(all_words_neg, min_freq=4)\n",
        "len(unigram_feats)\n",
        "83\n",
        "sentim_analyzer.add_feat_extractor(extract_unigram_feats, unigrams=unigram_feats)"
      ],
      "metadata": {
        "id": "Qwj2LLvW-eom"
      },
      "execution_count": 30,
      "outputs": []
    },
    {
      "cell_type": "code",
      "source": [
        "training_set = sentim_analyzer.apply_features(training_docs)\n",
        "test_set = sentim_analyzer.apply_features(testing_docs)"
      ],
      "metadata": {
        "id": "asEmhQt0-l4D"
      },
      "execution_count": 31,
      "outputs": []
    },
    {
      "cell_type": "code",
      "source": [
        "trainer = NaiveBayesClassifier.train\n",
        "classifier = sentim_analyzer.train(trainer, training_set)\n",
        "\n",
        "for key,value in sorted(sentim_analyzer.evaluate(test_set).items()):\n",
        "     print('{0}: {1}'.format(key, value))"
      ],
      "metadata": {
        "colab": {
          "base_uri": "https://localhost:8080/"
        },
        "id": "gKaiANwA-qs1",
        "outputId": "2644dda5-e8dc-4d12-c502-da6ad92ea2ed"
      },
      "execution_count": 32,
      "outputs": [
        {
          "output_type": "stream",
          "name": "stdout",
          "text": [
            "Training classifier\n",
            "Evaluating NaiveBayesClassifier results...\n",
            "Accuracy: 0.8\n",
            "F-measure [obj]: 0.8\n",
            "F-measure [subj]: 0.8\n",
            "Precision [obj]: 0.8\n",
            "Precision [subj]: 0.8\n",
            "Recall [obj]: 0.8\n",
            "Recall [subj]: 0.8\n"
          ]
        }
      ]
    },
    {
      "cell_type": "code",
      "source": [
        "from nltk.sentiment.vader import SentimentIntensityAnalyzer\n",
        "sentences = [\n",
        "   \"Paris is beautiful, romantic, and vibrant.\",\n",
        "   \"Paris is beautiful, romantic, and vibrant!\", # punctuation emphasis handled correctly (sentiment intensity adjusted)\n",
        "   \"Paris is absolutely beautiful, romantic, and vibrant.\",  # booster words handled correctly (sentiment intensity adjusted)\n",
        "   \"Paris is ABSOLUTELY BEAUTIFUL, romantic, and VIBRANT.\",  # emphasis for ALLCAPS handled\n",
        "   \"Paris is ABSOLUTELY BEAUTIFUL, romantic, and VIBRANT!!!\",# combination of signals - appropriate intensity adjustment\n",
        "   \"Paris is ABSOLUTELY BEAUTIFUL, truly romantic, and INCREDIBLY VIBRANT!!!\",# booster words & punctuation make this close to ceiling for score\n",
        "   \"The pizza was delicious.\",         # positive sentence\n",
        "   \"The pizza was kind of delicious.\", # qualified positive sentence is handled correctly (intensity adjusted)\n",
        "   \"The crust was crispy, but the cheese was bland and the sauce was too sweet.\", # mixed negation sentence\n",
        "   \"A terribly dry, flavorless sandwich.\",       # negative sentence with booster words\n",
        "   \"At least it wasn't the worst sandwich ever.\", # negated negative sentence with contraction\n",
        "   \":) and 🍕\",     # emoticons handled\n",
        "   \"\",              # an empty string is correctly handled\n",
        "   \"This hotel sucks\",     # negative slang handled\n",
        "   \"This hotel sucks!\",    # negative slang with punctuation emphasis handled\n",
        "   \"THIS HOTEL SUCKS!\",    # negative slang with capitalization emphasis\n",
        "   \"This hotel is kinda bad! But the view from the balcony is amazing, lol\" # mixed sentiment example with slang and contrastive conjunction \"but\"\n",
        "]\n",
        "\n",
        "paragraph = \"It was one of the worst dining experiences I've had, despite the high ratings. \\\n",
        "Unbelievably slow service!! Cold food. VERY disappointing ambiance. \\\n",
        "The restaurant was bad. Very bad restaurant. VERY bad restaurant. VERY BAD restaurant. VERY BAD restaurant!\""
      ],
      "metadata": {
        "id": "wKD1O-CZ-yfo"
      },
      "execution_count": 33,
      "outputs": []
    },
    {
      "cell_type": "code",
      "source": [
        "from nltk import tokenize\n",
        "lines_list = tokenize.sent_tokenize(paragraph)\n",
        "sentences.extend(lines_list)"
      ],
      "metadata": {
        "id": "Df5Eu5S0_5sl"
      },
      "execution_count": 34,
      "outputs": []
    },
    {
      "cell_type": "code",
      "source": [
        "tricky_sentences = [\n",
        "  \"Most online restaurant reviews are garbage.\",\n",
        "   \"Michelin-starred dining is the best.\",\n",
        "   \"Food reviews have never been reliable.\",\n",
        "   \"Food reviews on this app have never been this reliable.\",\n",
        "   \"Gordon Ramsay has never been so entertaining.\",\n",
        "   \"I won't say that the restaurant is spectacular, and I wouldn't claim that \\\n",
        "   the restaurant is too mediocre either.\",\n",
        "   \"I like to complain about expensive restaurants, but I couldn't find fault with this one.\",\n",
        "   \"I like to complain about expensive restaurants, BUT I couldn't help but criticize this one.\",\n",
        "   \"It's one thing to try street food, but another thing entirely \\\n",
        "   to get food poisoning from it.\",\n",
        "   \"The dessert was too good.\",\n",
        "   \"This dish was actually neither that flavorful nor very well presented.\",\n",
        "   \"This restaurant doesn’t care about quality, service, or any other kind of \\\n",
        "   fine dining experience.\",\n",
        "   \"Those who see flaws in authentic cuisine are missing out on a true culinary experience.\",\n",
        "   \"There are bland and uninspired dishes, BUT the chef adds just enough creativity to \\\n",
        "   keep it exciting.\",\n",
        "   \"The menu is not extraordinary, but the service is excellent and the ambiance is PERFECT!\",\n",
        "   \"Le Bernardin is one of the most unforgettable fine dining experiences.\",\n",
        "   \"Le Bernardin is one of the least remarkable fine dining experiences.\",\n",
        "   \"Le Bernardin is at least enjoyable as a fine dining experience.\",\n",
        "   \"People fall in love with a dish...\",\n",
        "   \"but then it tastes different the next time.\",\n",
        "   \"usually around the time they start recommending it to their friends.\",\n",
        "   \"The Eiffel Tower lights went off tonight.\",\n",
        "   \"However, Chef Pierre solemnly argues, his team prepared the dish \\\n",
        "   exactly as the customer ordered it—in the 'least offensive way possible.'\"\n",
        "]\n",
        "sentences.extend(tricky_sentences)\n",
        "for sentence in sentences:\n",
        "    sid = SentimentIntensityAnalyzer()\n",
        "    print(sentence)\n",
        "    ss = sid.polarity_scores(sentence)\n",
        "    for k in sorted(ss):\n",
        "        print('{0}: {1}, '.format(k, ss[k]), end='')\n",
        "    print()"
      ],
      "metadata": {
        "colab": {
          "base_uri": "https://localhost:8080/"
        },
        "id": "FHUp7k4BALzg",
        "outputId": "4a8c5a4d-0177-4b69-d876-0af43b2743cb"
      },
      "execution_count": 35,
      "outputs": [
        {
          "output_type": "stream",
          "name": "stdout",
          "text": [
            "Paris is beautiful, romantic, and vibrant.\n",
            "compound: 0.875, neg: 0.0, neu: 0.231, pos: 0.769, \n",
            "Paris is beautiful, romantic, and vibrant!\n",
            "compound: 0.8832, neg: 0.0, neu: 0.226, pos: 0.774, \n",
            "Paris is absolutely beautiful, romantic, and vibrant.\n",
            "compound: 0.8903, neg: 0.0, neu: 0.275, pos: 0.725, \n",
            "Paris is ABSOLUTELY BEAUTIFUL, romantic, and VIBRANT.\n",
            "compound: 0.9379, neg: 0.0, neu: 0.229, pos: 0.771, \n",
            "Paris is ABSOLUTELY BEAUTIFUL, romantic, and VIBRANT!!!\n",
            "compound: 0.9464, neg: 0.0, neu: 0.218, pos: 0.782, \n",
            "Paris is ABSOLUTELY BEAUTIFUL, truly romantic, and INCREDIBLY VIBRANT!!!\n",
            "compound: 0.969, neg: 0.0, neu: 0.207, pos: 0.793, \n",
            "The pizza was delicious.\n",
            "compound: 0.5719, neg: 0.0, neu: 0.448, pos: 0.552, \n",
            "The pizza was kind of delicious.\n",
            "compound: 0.5279, neg: 0.0, neu: 0.595, pos: 0.405, \n",
            "The crust was crispy, but the cheese was bland and the sauce was too sweet.\n",
            "compound: 0.6124, neg: 0.0, neu: 0.778, pos: 0.222, \n",
            "A terribly dry, flavorless sandwich.\n",
            "compound: -0.5574, neg: 0.545, neu: 0.455, pos: 0.0, \n",
            "At least it wasn't the worst sandwich ever.\n",
            "compound: 0.5096, neg: 0.0, neu: 0.68, pos: 0.32, \n",
            ":) and 🍕\n",
            "compound: 0.4588, neg: 0.0, neu: 0.25, pos: 0.75, \n",
            "\n",
            "compound: 0.0, neg: 0.0, neu: 0.0, pos: 0.0, \n",
            "This hotel sucks\n",
            "compound: -0.3612, neg: 0.556, neu: 0.444, pos: 0.0, \n",
            "This hotel sucks!\n",
            "compound: -0.4199, neg: 0.583, neu: 0.417, pos: 0.0, \n",
            "THIS HOTEL SUCKS!\n",
            "compound: -0.4199, neg: 0.583, neu: 0.417, pos: 0.0, \n",
            "This hotel is kinda bad! But the view from the balcony is amazing, lol\n",
            "compound: 0.8438, neg: 0.094, neu: 0.493, pos: 0.412, \n",
            "It was one of the worst dining experiences I've had, despite the high ratings.\n",
            "compound: -0.6249, neg: 0.24, neu: 0.76, pos: 0.0, \n",
            "Unbelievably slow service!!\n",
            "compound: 0.0, neg: 0.0, neu: 1.0, pos: 0.0, \n",
            "Cold food.\n",
            "compound: 0.0, neg: 0.0, neu: 1.0, pos: 0.0, \n",
            "VERY disappointing ambiance.\n",
            "compound: -0.64, neg: 0.679, neu: 0.321, pos: 0.0, \n",
            "The restaurant was bad.\n",
            "compound: -0.5423, neg: 0.538, neu: 0.462, pos: 0.0, \n",
            "Very bad restaurant.\n",
            "compound: -0.5849, neg: 0.655, neu: 0.345, pos: 0.0, \n",
            "VERY bad restaurant.\n",
            "compound: -0.6732, neg: 0.694, neu: 0.306, pos: 0.0, \n",
            "VERY BAD restaurant.\n",
            "compound: -0.7398, neg: 0.724, neu: 0.276, pos: 0.0, \n",
            "VERY BAD restaurant!\n",
            "compound: -0.7616, neg: 0.735, neu: 0.265, pos: 0.0, \n",
            "Most online restaurant reviews are garbage.\n",
            "compound: 0.0, neg: 0.0, neu: 1.0, pos: 0.0, \n",
            "Michelin-starred dining is the best.\n",
            "compound: 0.6369, neg: 0.0, neu: 0.488, pos: 0.512, \n",
            "Food reviews have never been reliable.\n",
            "compound: 0.0, neg: 0.0, neu: 1.0, pos: 0.0, \n",
            "Food reviews on this app have never been this reliable.\n",
            "compound: 0.0, neg: 0.0, neu: 1.0, pos: 0.0, \n",
            "Gordon Ramsay has never been so entertaining.\n",
            "compound: 0.5777, neg: 0.0, neu: 0.616, pos: 0.384, \n",
            "I won't say that the restaurant is spectacular, and I wouldn't claim that    the restaurant is too mediocre either.\n",
            "compound: 0.0, neg: 0.0, neu: 1.0, pos: 0.0, \n",
            "I like to complain about expensive restaurants, but I couldn't find fault with this one.\n",
            "compound: 0.438, neg: 0.107, neu: 0.61, pos: 0.283, \n",
            "I like to complain about expensive restaurants, BUT I couldn't help but criticize this one.\n",
            "compound: -0.0286, neg: 0.255, neu: 0.496, pos: 0.249, \n",
            "It's one thing to try street food, but another thing entirely    to get food poisoning from it.\n",
            "compound: -0.7351, neg: 0.245, neu: 0.755, pos: 0.0, \n",
            "The dessert was too good.\n",
            "compound: 0.4404, neg: 0.0, neu: 0.58, pos: 0.42, \n",
            "This dish was actually neither that flavorful nor very well presented.\n",
            "compound: -0.2572, neg: 0.169, neu: 0.831, pos: 0.0, \n",
            "This restaurant doesn’t care about quality, service, or any other kind of    fine dining experience.\n",
            "compound: 0.5729, neg: 0.0, neu: 0.734, pos: 0.266, \n",
            "Those who see flaws in authentic cuisine are missing out on a true culinary experience.\n",
            "compound: 0.1531, neg: 0.129, neu: 0.706, pos: 0.165, \n",
            "There are bland and uninspired dishes, BUT the chef adds just enough creativity to    keep it exciting.\n",
            "compound: 0.8053, neg: 0.0, neu: 0.674, pos: 0.326, \n",
            "The menu is not extraordinary, but the service is excellent and the ambiance is PERFECT!\n",
            "compound: 0.9259, neg: 0.0, neu: 0.531, pos: 0.469, \n",
            "Le Bernardin is one of the most unforgettable fine dining experiences.\n",
            "compound: 0.2682, neg: 0.0, neu: 0.828, pos: 0.172, \n",
            "Le Bernardin is one of the least remarkable fine dining experiences.\n",
            "compound: -0.2787, neg: 0.213, neu: 0.656, pos: 0.131, \n",
            "Le Bernardin is at least enjoyable as a fine dining experience.\n",
            "compound: 0.5719, neg: 0.0, neu: 0.63, pos: 0.37, \n",
            "People fall in love with a dish...\n",
            "compound: 0.6369, neg: 0.0, neu: 0.543, pos: 0.457, \n",
            "but then it tastes different the next time.\n",
            "compound: 0.0, neg: 0.0, neu: 1.0, pos: 0.0, \n",
            "usually around the time they start recommending it to their friends.\n",
            "compound: 0.4767, neg: 0.0, neu: 0.763, pos: 0.237, \n",
            "The Eiffel Tower lights went off tonight.\n",
            "compound: 0.0, neg: 0.0, neu: 1.0, pos: 0.0, \n",
            "However, Chef Pierre solemnly argues, his team prepared the dish    exactly as the customer ordered it—in the 'least offensive way possible.'\n",
            "compound: 0.3777, neg: 0.101, neu: 0.659, pos: 0.24, \n"
          ]
        }
      ]
    }
  ]
}